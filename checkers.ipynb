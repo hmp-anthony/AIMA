{
 "cells": [
  {
   "cell_type": "markdown",
   "id": "fa200913-489b-427e-94cc-c9a0975ded4d",
   "metadata": {},
   "source": [
    "# Checkers\n",
    "I have decided to join the Board class and the Game class into one class. The way they have implemented the Board class makes it difficult to implement a checkers board. At the moment it just stores {coordinate, player}. In checkers we need to move players, delete players, promote players etc.. Of course we could modify it, but from an OOP point of view I think it is fine for the Checkers game to possess and control a board internally."
   ]
  },
  {
   "cell_type": "markdown",
   "id": "ced4df2b-a66c-42a9-a0d8-dcba6192d3e6",
   "metadata": {},
   "source": [
    "We start with two lists of pieces. The boolean next to the location (i,j) is the king status. If the piece is taken we replace its location with None. That is, the lists P[0] and P[1] will always have size 12."
   ]
  },
  {
   "cell_type": "code",
   "execution_count": 75,
   "id": "e3d8f3ad-1132-4c22-bf1a-4cf3ed42c4ba",
   "metadata": {},
   "outputs": [],
   "source": [
    "# A standard game of checkers. 8x8 board.\n",
    "class Checkers():\n",
    "    def __init__(self):\n",
    "        # initial positions\n",
    "        W = [(x,y) for y in range(0,3) for x in range(y%2,8,2)]\n",
    "        B = [(x,y) for y in range(5,8) for x in range(y%2,8,2)]\n",
    "        B.append((3,3))\n",
    "        B.append((7,3))\n",
    "        self.P = {'W' : W, 'B' : B}\n",
    "        # we record king status as a mapping from location to boolean\n",
    "        W_King = {location : False for location in W}\n",
    "        B_King = {location : False for location in B}\n",
    "        self.Kings = {'W' : W_King,'B' : B_King}\n",
    "        self.to_move = 'W'\n",
    "\n",
    "    def remove_self_intersections(self, piece):\n",
    "        # There are 4 possible moves.\n",
    "        turn = self.to_move\n",
    "        if(turn == 'W'):\n",
    "            moves = []\n",
    "            if(piece[1] < 7):\n",
    "                if(piece[0] > 0):\n",
    "                    moves.append((piece[0] - 1, piece[1] + 1))\n",
    "                if(piece[0] < 7):\n",
    "                    moves.append((piece[0] + 1, piece[1] + 1))\n",
    "            if(self.Kings[turn][piece] and piece[1] > 0):\n",
    "                if(piece[0] > 0):\n",
    "                    moves.append((piece[0] - 1, piece[1] - 1))\n",
    "                if(piece[0] < 7):\n",
    "                    moves.append((piece[0] + 1, piece[1] - 1))\n",
    "            available_moves = []\n",
    "            for m in moves:\n",
    "                if m in self.P['W']:\n",
    "                    continue\n",
    "                available_moves.append(m)\n",
    "            return available_moves\n",
    "            \n",
    "        if(turn == 'B'):\n",
    "            moves = []\n",
    "            if(piece[1] > 0 ):\n",
    "                if(piece[0] > 0):\n",
    "                    moves.append((piece[0] - 1, piece[1] - 1))\n",
    "                if(piece[0] < 7):\n",
    "                    moves.append((piece[0] + 1, piece[1] - 1))\n",
    "            if(self.Kings[turn][piece] and piece[1] < 0):\n",
    "                if(piece[0] > 0):\n",
    "                    moves.append((piece[0] - 1, piece[1] + 1))\n",
    "                if(piece[0] < 7):\n",
    "                    moves.append((piece[0] + 1, piece[1] + 1))\n",
    "            available_moves = []\n",
    "            for m in moves:\n",
    "                if m in self.P['B']:\n",
    "                    continue\n",
    "                available_moves.append(m)\n",
    "            return available_moves\n",
    "    \n",
    "    def generate_action(self, i, piece, moves):\n",
    "        print(i, piece, moves)\n",
    "        other_player = 'B' if self.to_move == 'W' else 'W'\n",
    "        other_player_piece_locations = self.P[other_player]\n",
    "        for move in moves:\n",
    "            if move in other_player_piece_locations:\n",
    "                # if we find a piece that we MIGHT be able\n",
    "                # to capture, we need to make sure we can.\n",
    "                print('!!')\n",
    "    \n",
    "    def actions(self):\n",
    "        actions = []\n",
    "        for i in range(12):\n",
    "            turn = self.to_move\n",
    "            piece = self.P[turn][i]\n",
    "            # If the piece is taken, just continue.\n",
    "            if piece == None: continue\n",
    "            moves = self.remove_self_intersections(piece)\n",
    "            # If there are no moves ,just continue.\n",
    "            if(len(moves) == 0): continue\n",
    "            # action is a tuple:\n",
    "            # (i, (l,m), [taken_pieces], make_king)\n",
    "            action = self.generate_action(i, piece, moves)\n",
    "            actions.append(action)\n",
    "            # loop through actions, if we find an action that\n",
    "            # involves taking a piece we return that action as\n",
    "            # a singleton.\n",
    "            "
   ]
  },
  {
   "cell_type": "code",
   "execution_count": 76,
   "id": "1c97ee90-2c8f-4ccb-a555-55d128bdb319",
   "metadata": {},
   "outputs": [
    {
     "name": "stdout",
     "output_type": "stream",
     "text": [
      "8 (0, 2) [(1, 3)]\n",
      "9 (2, 2) [(1, 3), (3, 3)]\n",
      "!!\n",
      "10 (4, 2) [(3, 3), (5, 3)]\n",
      "!!\n",
      "11 (6, 2) [(5, 3), (7, 3)]\n",
      "!!\n"
     ]
    }
   ],
   "source": [
    "c = Checkers()\n",
    "c.actions()"
   ]
  },
  {
   "cell_type": "code",
   "execution_count": null,
   "id": "2239ba2f-4db0-4aaf-ab11-49cd24d673b2",
   "metadata": {},
   "outputs": [],
   "source": []
  },
  {
   "cell_type": "code",
   "execution_count": null,
   "id": "32ff57c5-b4eb-442b-a9da-c17dc49060d2",
   "metadata": {},
   "outputs": [],
   "source": []
  }
 ],
 "metadata": {
  "kernelspec": {
   "display_name": "Python 3 (ipykernel)",
   "language": "python",
   "name": "python3"
  },
  "language_info": {
   "codemirror_mode": {
    "name": "ipython",
    "version": 3
   },
   "file_extension": ".py",
   "mimetype": "text/x-python",
   "name": "python",
   "nbconvert_exporter": "python",
   "pygments_lexer": "ipython3",
   "version": "3.11.2"
  }
 },
 "nbformat": 4,
 "nbformat_minor": 5
}
