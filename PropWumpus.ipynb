{
 "cells": [
  {
   "cell_type": "markdown",
   "id": "d47e13f0-bcb2-45b6-9371-76fd4a47c5d8",
   "metadata": {},
   "source": [
    "# The Wumpus Code\n",
    "The notebook `logic.ipynb` does not really talk about the Wumpus world aside from a very short example. We correct that here and might even make improvements to the code. In order to understand this notebook, we (strongly) suggest that you read `logic.ipynb`.\n",
    "\n",
    "First, note that `WumpusKB` inherits from `PropKB` which inherits from `KB`. This means we have a few funtions at our fingertips that allow us to probe `WumpusKB`. Let us create a `WumpusKB` and see what is inside."
   ]
  },
  {
   "cell_type": "code",
   "execution_count": 59,
   "id": "dd5d5298-2e3a-41a5-923b-e7dabf6b078b",
   "metadata": {},
   "outputs": [
    {
     "data": {
      "text/plain": [
       "{(B(1, 1) | ~Breeze(0) | ~L(1, 1, 0)),\n",
       " (B(1, 2) | ~Breeze(0) | ~L(1, 2, 0)),\n",
       " (B(2, 1) | ~Breeze(0) | ~L(2, 1, 0)),\n",
       " (B(2, 2) | ~Breeze(0) | ~L(2, 2, 0)),\n",
       " (Breeze(0) | ~B(1, 1) | ~L(1, 1, 0)),\n",
       " (Breeze(0) | ~B(1, 2) | ~L(1, 2, 0)),\n",
       " (Breeze(0) | ~B(2, 1) | ~L(2, 1, 0)),\n",
       " (Breeze(0) | ~B(2, 2) | ~L(2, 2, 0)),\n",
       " (P(1, 1) | P(2, 2) | ~B(2, 1)),\n",
       " (P(1, 2) | P(2, 1) | ~B(1, 1)),\n",
       " (P(1, 2) | P(2, 1) | ~B(2, 2)),\n",
       " (P(2, 2) | P(1, 1) | ~B(1, 2)),\n",
       " (S(1, 1) | ~Stench(0) | ~L(1, 1, 0)),\n",
       " (S(1, 2) | ~Stench(0) | ~L(1, 2, 0)),\n",
       " (S(2, 1) | ~Stench(0) | ~L(2, 1, 0)),\n",
       " (S(2, 2) | ~Stench(0) | ~L(2, 2, 0)),\n",
       " (Stench(0) | ~S(1, 1) | ~L(1, 1, 0)),\n",
       " (Stench(0) | ~S(1, 2) | ~L(1, 2, 0)),\n",
       " (Stench(0) | ~S(2, 1) | ~L(2, 1, 0)),\n",
       " (Stench(0) | ~S(2, 2) | ~L(2, 2, 0)),\n",
       " (W(1, 1) | W(1, 2) | W(2, 1) | W(2, 2)),\n",
       " (W(1, 1) | W(2, 2) | ~S(2, 1)),\n",
       " (W(1, 2) | W(2, 1) | ~S(1, 1)),\n",
       " (W(1, 2) | W(2, 1) | ~S(2, 2)),\n",
       " (W(2, 2) | W(1, 1) | ~S(1, 2)),\n",
       " (~P(1, 1) | B(1, 2)),\n",
       " (~P(1, 1) | B(2, 1)),\n",
       " (~P(1, 2) | B(1, 1)),\n",
       " (~P(1, 2) | B(2, 2)),\n",
       " (~P(2, 1) | B(1, 1)),\n",
       " (~P(2, 1) | B(2, 2)),\n",
       " (~P(2, 2) | B(1, 2)),\n",
       " (~P(2, 2) | B(2, 1)),\n",
       " (~W(1, 1) | S(1, 2)),\n",
       " (~W(1, 1) | S(2, 1)),\n",
       " (~W(1, 1) | ~W(1, 2)),\n",
       " (~W(1, 1) | ~W(2, 1)),\n",
       " (~W(1, 1) | ~W(2, 2)),\n",
       " (~W(1, 2) | S(1, 1)),\n",
       " (~W(1, 2) | S(2, 2)),\n",
       " (~W(1, 2) | ~W(1, 1)),\n",
       " (~W(1, 2) | ~W(2, 1)),\n",
       " (~W(1, 2) | ~W(2, 2)),\n",
       " (~W(2, 1) | S(1, 1)),\n",
       " (~W(2, 1) | S(2, 2)),\n",
       " (~W(2, 1) | ~W(1, 1)),\n",
       " (~W(2, 1) | ~W(1, 2)),\n",
       " (~W(2, 1) | ~W(2, 2)),\n",
       " (~W(2, 2) | S(1, 2)),\n",
       " (~W(2, 2) | S(2, 1)),\n",
       " (~W(2, 2) | ~W(1, 1)),\n",
       " (~W(2, 2) | ~W(1, 2)),\n",
       " (~W(2, 2) | ~W(2, 1)),\n",
       " FacingEast(0),\n",
       " HaveArrow(0),\n",
       " L(1, 1, 0),\n",
       " WumpusAlive(0),\n",
       " ~FacingNorth(0),\n",
       " ~FacingSouth(0),\n",
       " ~FacingWest(0),\n",
       " ~L(1, 2, 0),\n",
       " ~L(2, 1, 0),\n",
       " ~L(2, 2, 0),\n",
       " ~P(1, 1),\n",
       " ~W(1, 1)}"
      ]
     },
     "execution_count": 59,
     "metadata": {},
     "output_type": "execute_result"
    }
   ],
   "source": [
    "from logic import *\n",
    "\n",
    "wkb = WumpusKB(2)\n",
    "set(wkb.clauses)"
   ]
  },
  {
   "cell_type": "markdown",
   "id": "a5d548ee-c84d-47df-8d1a-e4ebc8a82334",
   "metadata": {},
   "source": [
    "Scrolling all the way to the bottom, we have that `~P(1, 1)` and `~W(1, 1)`. That is, there is no pit in `(1,1)` and there is no Wumpus in the square `(1,1)`. If you look through the clauses, we can see that the agent is facing east:\n",
    "\n",
    "\n",
    "` FacingEast(0),\n",
    " ~FacingNorth(0),\n",
    " ~FacingSouth(0),\n",
    " ~FacingWest(0),`\n",
    "\n",
    " \n",
    " There are plenty more bits of information that we can extract from examining these clauses. For instance:\n",
    "\n",
    " \n",
    " `(W(1, 1) | W(1, 2) | W(2, 1) | W(2, 2))`\n",
    "\n",
    " means that the Wumpus is somewhere."
   ]
  },
  {
   "cell_type": "code",
   "execution_count": null,
   "id": "9809e4c5-4254-405b-8c89-eb8061ba05bb",
   "metadata": {},
   "outputs": [],
   "source": []
  }
 ],
 "metadata": {
  "kernelspec": {
   "display_name": "Python 3 (ipykernel)",
   "language": "python",
   "name": "python3"
  },
  "language_info": {
   "codemirror_mode": {
    "name": "ipython",
    "version": 3
   },
   "file_extension": ".py",
   "mimetype": "text/x-python",
   "name": "python",
   "nbconvert_exporter": "python",
   "pygments_lexer": "ipython3",
   "version": "3.11.2"
  }
 },
 "nbformat": 4,
 "nbformat_minor": 5
}
