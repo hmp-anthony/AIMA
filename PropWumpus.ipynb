{
 "cells": [
  {
   "cell_type": "markdown",
   "id": "614dcfe9-212a-47ca-85ab-128317bb66eb",
   "metadata": {},
   "source": [
    "Let us start by experimenting with a knowledge base. We use the expression `Expr` functionality from `utils.py`, which is implemented (essentially) as a abstract syntax tree. I have gone further with this than in AIMA. That is, I have implemented automatic differentiation in C++. See here: https://github.com/hmp-anthony/autodiff"
   ]
  },
  {
   "cell_type": "code",
   "execution_count": 27,
   "id": "55e1a3a5-3bd6-49dd-b226-bfea25e9b150",
   "metadata": {},
   "outputs": [
    {
     "name": "stdout",
     "output_type": "stream",
     "text": [
      "&\n",
      "(P, Q)\n"
     ]
    }
   ],
   "source": [
    "from logic import *\n",
    "\n",
    "P = Expr('P')\n",
    "Q = Expr('Q')\n",
    "R = P & Q\n",
    "print(R.op)\n",
    "print(R.args)"
   ]
  },
  {
   "cell_type": "markdown",
   "id": "2206f6db-fcc6-4cdf-a30f-717e3584dce2",
   "metadata": {},
   "source": [
    "Okay, let's create a knowledge base and some `Expr` instances via the provided syntactic sugar:"
   ]
  },
  {
   "cell_type": "code",
   "execution_count": 28,
   "id": "c0e0e585-549e-4505-9be3-8a7343a009a5",
   "metadata": {},
   "outputs": [],
   "source": [
    "akb = PropKB() # Anthony's Knowledge Base\n",
    "A, B, C, D = symbols(\"A, B, C, D\")"
   ]
  },
  {
   "cell_type": "markdown",
   "id": "240dcc14-02a7-4da5-ac5f-39b3cfcf89d7",
   "metadata": {},
   "source": [
    "In this notebook I am going to delve into `logic.ipynb` a bit more that AIMA. In `logic.ipynb` (in AIMA) it is only shown that we can \"tell\" the knowledge base things..."
   ]
  },
  {
   "cell_type": "code",
   "execution_count": 36,
   "id": "e67810b1-a2eb-4b32-8996-6f4617339bca",
   "metadata": {},
   "outputs": [],
   "source": [
    "akb.tell(A)\n",
    "akb.tell(B)\n",
    "akb.tell((A & B) | '==>' | C)"
   ]
  },
  {
   "cell_type": "markdown",
   "id": "f255d87f-1b59-41d5-81e1-9433959370df",
   "metadata": {},
   "source": [
    "and get the knowledge base to return the clauses..."
   ]
  },
  {
   "cell_type": "code",
   "execution_count": 39,
   "id": "a64ad973-ae8b-45c0-8016-e40163ecb1b6",
   "metadata": {},
   "outputs": [
    {
     "data": {
      "text/plain": [
       "{(A | ~C), (B | ~C), (C | ~A | ~B), A, B}"
      ]
     },
     "execution_count": 39,
     "metadata": {},
     "output_type": "execute_result"
    }
   ],
   "source": [
    "set(akb.clauses) # I had to do this to make the output pretty."
   ]
  },
  {
   "cell_type": "markdown",
   "id": "8cf73d9d-306e-427d-94e9-7fa4b4d1e428",
   "metadata": {},
   "source": [
    "Remember that a clause is a disjunction of literals. We need to ask, does the knowledge base at this stage make sense?"
   ]
  }
 ],
 "metadata": {
  "kernelspec": {
   "display_name": "Python 3 (ipykernel)",
   "language": "python",
   "name": "python3"
  },
  "language_info": {
   "codemirror_mode": {
    "name": "ipython",
    "version": 3
   },
   "file_extension": ".py",
   "mimetype": "text/x-python",
   "name": "python",
   "nbconvert_exporter": "python",
   "pygments_lexer": "ipython3",
   "version": "3.11.2"
  }
 },
 "nbformat": 4,
 "nbformat_minor": 5
}
