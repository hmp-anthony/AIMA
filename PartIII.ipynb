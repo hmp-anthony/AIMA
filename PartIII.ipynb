{
 "cells": [
  {
   "cell_type": "markdown",
   "id": "6ff79848-dc20-4cd2-9a74-a492e8d84bc7",
   "metadata": {},
   "source": [
    "# Part III overview\n",
    "\n",
    "For chapters 7-12 there is not a great deal of programming tasks. In fact there are none: The modifications to the hybrid wumpus agent are rendered null by the fact that the code is completely broken."
   ]
  },
  {
   "cell_type": "code",
   "execution_count": 2,
   "id": "c039a349-1c66-44d0-a679-5c1999d089f1",
   "metadata": {},
   "outputs": [],
   "source": [
    "from logic import *\n",
    "\n",
    "AKB = PropKB # Anthony's Knowledge Base\n",
    "\n"
   ]
  },
  {
   "cell_type": "code",
   "execution_count": null,
   "id": "e7f11de0-4633-468a-aa2b-4026dc853039",
   "metadata": {},
   "outputs": [],
   "source": []
  }
 ],
 "metadata": {
  "kernelspec": {
   "display_name": "Python 3 (ipykernel)",
   "language": "python",
   "name": "python3"
  },
  "language_info": {
   "codemirror_mode": {
    "name": "ipython",
    "version": 3
   },
   "file_extension": ".py",
   "mimetype": "text/x-python",
   "name": "python",
   "nbconvert_exporter": "python",
   "pygments_lexer": "ipython3",
   "version": "3.11.2"
  }
 },
 "nbformat": 4,
 "nbformat_minor": 5
}
