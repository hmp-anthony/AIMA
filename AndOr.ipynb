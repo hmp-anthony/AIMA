{
 "cells": [
  {
   "cell_type": "markdown",
   "id": "28abc417-5b07-4a4e-af54-3e978d8a45ce",
   "metadata": {},
   "source": [
    "If you want to run this code, go to https://github.com/hmp-anthony/AIMA and look for AndOr.ipynb. In this notebook I am going to cherry-pick the `and_or_search` functionality from `search4e.ipynb` and expand upon it, adding more problems and advancing the code. "
   ]
  },
  {
   "cell_type": "code",
   "execution_count": 1,
   "id": "7db05147-8574-46cc-b325-5540f74868ad",
   "metadata": {},
   "outputs": [],
   "source": [
    "import math\n",
    "\n",
    "class Problem(object):\n",
    "    \"\"\"The abstract class for a formal problem. A new domain subclasses this,\n",
    "    overriding `actions` and `results`, and perhaps other methods.\n",
    "    The default heuristic is 0 and the default action cost is 1 for all states.\n",
    "    When yiou create an instance of a subclass, specify `initial`, and `goal` states \n",
    "    (or give an `is_goal` method) and perhaps other keyword args for the subclass.\"\"\"\n",
    "\n",
    "    def __init__(self, initial=None, goal=None, **kwds): \n",
    "        self.__dict__.update(initial=initial, goal=goal, **kwds) \n",
    "        \n",
    "    def actions(self, state):        raise NotImplementedError\n",
    "    def result(self, state, action): raise NotImplementedError\n",
    "    def is_goal(self, state):        return state == self.goal\n",
    "    def action_cost(self, s, a, s1): return 1\n",
    "    def h(self, node):               return 0\n",
    "    \n",
    "    def __str__(self):\n",
    "        return '{}({!r}, {!r})'.format(\n",
    "            type(self).__name__, self.initial, self.goal)\n",
    "\n",
    "class Node:\n",
    "    \"A Node in a search tree.\"\n",
    "    def __init__(self, state, parent=None, action=None, path_cost=0):\n",
    "        self.__dict__.update(state=state, parent=parent, action=action, path_cost=path_cost)\n",
    "\n",
    "    def __repr__(self): return '<{}>'.format(self.state)\n",
    "    def __len__(self): return 0 if self.parent is None else (1 + len(self.parent))\n",
    "    def __lt__(self, other): return self.path_cost < other.path_cost\n",
    "    \n",
    "\n",
    "failure = Node('failure', path_cost=math.inf)\n",
    "loop = Node('loop', path_cost=math.inf)"
   ]
  },
  {
   "cell_type": "code",
   "execution_count": 2,
   "id": "cd3fc680-fed8-4b85-928e-dfabcd387d23",
   "metadata": {},
   "outputs": [],
   "source": [
    "class MultiGoalProblem(Problem):\n",
    "    \"\"\"A version of `Problem` with a colllection of `goals` instead of one `goal`.\"\"\"\n",
    "    \n",
    "    def __init__(self, initial=None, goals=(), **kwds): \n",
    "        self.__dict__.update(initial=initial, goals=goals, **kwds)\n",
    "        \n",
    "    def is_goal(self, state): return state in self.goals\n",
    "    \n",
    "class ErraticVacuum(MultiGoalProblem):\n",
    "    \"\"\"In this 2-location vacuum problem, the suck action in a dirty square will either clean up that square,\n",
    "    or clean up both squares. A suck action in a clean square will either do nothing, or\n",
    "    will deposit dirt in that square. Forward and backward actions are deterministic.\"\"\"\n",
    "    \n",
    "    def actions(self, state): \n",
    "        return ['suck', 'forward', 'backward']\n",
    "    \n",
    "    def results(self, state, action): return self.table[action][state]\n",
    "    \n",
    "    table = {'suck':{1:{5,7}, 2:{4,8}, 3:{7}, 4:{2,4}, 5:{1,5}, 6:{8}, 7:{3,7}, 8:{6,8}},\n",
    "             'forward': {1:{2}, 2:{2}, 3:{4}, 4:{4}, 5:{6}, 6:{6}, 7:{8}, 8:{8}},\n",
    "             'backward': {1:{1}, 2:{1}, 3:{3}, 4:{3}, 5:{5}, 6:{5}, 7:{7}, 8:{7}}}\n",
    "\n",
    "class SlipperyErraticVacuum(MultiGoalProblem):\n",
    "    \"\"\"In this 2-location vacuum problem, the suck action in a dirty square will either clean up that square,\n",
    "    or clean up both squares. A suck action in a clean square will either do nothing, or\n",
    "    will deposit dirt in that square. Forward and backward actions are deterministic.\"\"\"\n",
    "    \n",
    "    def actions(self, state): \n",
    "        return ['suck', 'forward', 'backward']\n",
    "    \n",
    "    def results(self, state, action): return self.table[action][state]\n",
    "    \n",
    "    table = {'suck':{1:{5,7}, 2:{4,8}, 3:{7}, 4:{2,4}, 5:{1,5}, 6:{8}, 7:{3,7}, 8:{6,8}},\n",
    "             'forward': {1:{1,2}, 2:{2}, 3:{3,4}, 4:{4}, 5:{5,6}, 6:{6}, 7:{7,8}, 8:{8}},\n",
    "             'backward': {1:{1}, 2:{2,1}, 3:{3}, 4:{4,3}, 5:{5}, 6:{6,5}, 7:{7}, 8:{8,7}}}"
   ]
  },
  {
   "cell_type": "code",
   "execution_count": 3,
   "id": "6266fae9-3f22-4818-a081-335c63b81390",
   "metadata": {},
   "outputs": [],
   "source": [
    "def and_or_search(problem):\n",
    "    \"Find a plan for a problem that has nondterministic actions.\"\n",
    "    return or_search(problem, problem.initial, [])\n",
    "    \n",
    "def or_search(problem, state, path):\n",
    "    \"Find a sequence of actions to reach goal from state, without repeating states on path.\"\n",
    "    if problem.is_goal(state): return []\n",
    "    if state in path: return failure\n",
    "    for action in problem.actions(state):\n",
    "        plan = and_search(problem, problem.results(state, action), [state] + path)\n",
    "        if plan != failure:\n",
    "            return [action] + plan\n",
    "    return failure\n",
    "\n",
    "def and_search(problem, states, path):\n",
    "    \"Plan for each of the possible states we might end up in.\"\n",
    "    if len(states) == 1: \n",
    "        return or_search(problem, next(iter(states)), path)\n",
    "    plan = {}\n",
    "    for s in states:\n",
    "        plan[s] = or_search(problem, s, path)\n",
    "        if plan[s] == failure: return failure\n",
    "    return [plan]"
   ]
  },
  {
   "cell_type": "code",
   "execution_count": 4,
   "id": "09bda689-d8ee-4b0f-9b60-f447816d2902",
   "metadata": {},
   "outputs": [
    {
     "data": {
      "text/plain": [
       "{1: ['suck', {5: ['forward', 'suck'], 7: []}],\n",
       " 2: ['suck', {8: [], 4: ['backward', 'suck']}],\n",
       " 3: ['suck'],\n",
       " 4: ['backward', 'suck'],\n",
       " 5: ['forward', 'suck'],\n",
       " 6: ['suck'],\n",
       " 7: [],\n",
       " 8: []}"
      ]
     },
     "execution_count": 4,
     "metadata": {},
     "output_type": "execute_result"
    }
   ],
   "source": [
    "{s: and_or_search(ErraticVacuum(s, {7,8})) for s in range(1, 9)}"
   ]
  },
  {
   "cell_type": "code",
   "execution_count": 5,
   "id": "d81ec6a3-a0c4-4a8e-848c-3c98bfba5fd8",
   "metadata": {},
   "outputs": [
    {
     "data": {
      "text/plain": [
       "{1: <failure>,\n",
       " 2: <failure>,\n",
       " 3: ['suck'],\n",
       " 4: <failure>,\n",
       " 5: <failure>,\n",
       " 6: ['suck'],\n",
       " 7: [],\n",
       " 8: []}"
      ]
     },
     "execution_count": 5,
     "metadata": {},
     "output_type": "execute_result"
    }
   ],
   "source": [
    "{s: and_or_search(SlipperyErraticVacuum(s, {7,8})) for s in range(1, 9)}"
   ]
  },
  {
   "cell_type": "code",
   "execution_count": 6,
   "id": "95c9ff8d-577a-4cbc-8a8b-1b5e150fe820",
   "metadata": {},
   "outputs": [],
   "source": [
    "def test_acyclic(plan_string):\n",
    "    return plan_string.find(\"<loop>\") < 0\n",
    "\n",
    "def and_or_search(problem):\n",
    "    \"Find a plan for a problem that has nondterministic actions.\"\n",
    "    return or_search(problem, problem.initial, [])\n",
    "    \n",
    "def or_search(problem, state, path):\n",
    "    \"Find a sequence of actions to reach goal from state, without repeating states on path.\"\n",
    "    if problem.is_goal(state): return []\n",
    "    if state in path: return loop\n",
    "    cycle_minus_plan = []\n",
    "    for action in problem.actions(state):\n",
    "        plan = and_search(problem, problem.results(state, action), [state] + path)\n",
    "        if(plan != failure):\n",
    "            if(type(plan) != list): plan = [plan]\n",
    "            plan_string = str(plan)\n",
    "            # return non-cyclic solution\n",
    "            if(test_acyclic(plan_string)):\n",
    "                return [action] + plan\n",
    "            # save cyclic solution\n",
    "            cycle_minus_plan.append([action] + plan)\n",
    "    if cycle_minus_plan != None: return cycle_minus_plan\n",
    "    return failure\n",
    "\n",
    "def and_search(problem, states, path):\n",
    "    \"Plan for each of the possible states we might end up in.\"\n",
    "    loopy = True\n",
    "    if len(states) == 1: \n",
    "        return or_search(problem, next(iter(states)), path)\n",
    "    plan = {}\n",
    "    for s in states:\n",
    "        plan[s] = or_search(problem, s, path)\n",
    "        if plan[s] == failure: return failure\n",
    "        if plan[s] != loop: loopy = False\n",
    "    if not loopy: return [plan]\n",
    "    return failure"
   ]
  },
  {
   "cell_type": "code",
   "execution_count": 31,
   "id": "3df86585-9b3f-4d0b-b887-7a98b40180fb",
   "metadata": {},
   "outputs": [
    {
     "data": {
      "text/plain": [
       "{1: ['suck', {5: ['forward', 'suck'], 7: []}],\n",
       " 2: ['suck', {8: [], 4: ['backward', 'suck']}],\n",
       " 3: ['suck'],\n",
       " 4: ['backward', 'suck'],\n",
       " 5: ['forward', 'suck'],\n",
       " 6: ['suck'],\n",
       " 7: [],\n",
       " 8: []}"
      ]
     },
     "execution_count": 31,
     "metadata": {},
     "output_type": "execute_result"
    }
   ],
   "source": [
    "{s: and_or_search(ErraticVacuum(s, {7,8})) for s in range(1, 9)}"
   ]
  },
  {
   "cell_type": "code",
   "execution_count": 37,
   "id": "f0ab715c-499c-43b0-be9a-9fa95c12082b",
   "metadata": {
    "scrolled": true
   },
   "outputs": [
    {
     "name": "stdout",
     "output_type": "stream",
     "text": [
      "1 ['suck', {5: [['forward', {5: <loop>, 6: ['suck']}], ['backward', <loop>]], 7: []}]\n",
      "2 ['suck', {8: [], 4: [['forward', <loop>], ['backward', {3: ['suck'], 4: <loop>}]]}]\n",
      "3 ['suck']\n",
      "4 ['backward', {3: ['suck'], 4: <loop>}]\n",
      "5 ['forward', {5: <loop>, 6: ['suck']}]\n",
      "6 ['suck']\n",
      "7 []\n",
      "8 []\n"
     ]
    }
   ],
   "source": [
    "D = {s: and_or_search(SlipperyErraticVacuum(s, {7,8})) for s in range(1, 9)}\n",
    "print('1', D[1][0])\n",
    "print('2', D[2][0])\n",
    "print('3', D[3])\n",
    "print('4', D[4][2])\n",
    "print('5', D[5][1])\n",
    "print('6', D[6])\n",
    "print('7', D[7])\n",
    "print('8', D[8])"
   ]
  },
  {
   "cell_type": "code",
   "execution_count": 36,
   "id": "9ef7ca86-a673-4dbe-9788-4a71dd9ebf39",
   "metadata": {},
   "outputs": [
    {
     "name": "stdout",
     "output_type": "stream",
     "text": [
      "suck\n",
      "{2: [['suck', {8: [], 4: <loop>}], ['forward', <loop>], ['backward', {1: [['suck', {5: [['forward', {5: <loop>, 6: ['suck']}], ['backward', <loop>]], 7: []}], ['backward', <loop>]], 2: <loop>}]], 4: <loop>}\n"
     ]
    }
   ],
   "source": [
    "L = D[4][0]\n",
    "for i in L:\n",
    "    print(i)"
   ]
  },
  {
   "cell_type": "code",
   "execution_count": null,
   "id": "53752381-3c98-4e64-9dce-3bf4bb0c4685",
   "metadata": {},
   "outputs": [],
   "source": []
  }
 ],
 "metadata": {
  "kernelspec": {
   "display_name": "Python 3 (ipykernel)",
   "language": "python",
   "name": "python3"
  },
  "language_info": {
   "codemirror_mode": {
    "name": "ipython",
    "version": 3
   },
   "file_extension": ".py",
   "mimetype": "text/x-python",
   "name": "python",
   "nbconvert_exporter": "python",
   "pygments_lexer": "ipython3",
   "version": "3.11.2"
  }
 },
 "nbformat": 4,
 "nbformat_minor": 5
}
