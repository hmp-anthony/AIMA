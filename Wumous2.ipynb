{
 "cells": [
  {
   "cell_type": "code",
   "execution_count": 1,
   "id": "e065bcd5-a9b3-4c25-9d00-b476b5e060e2",
   "metadata": {},
   "outputs": [],
   "source": [
    "from logic import *\n",
    "\n",
    "hwa = HybridWumpusAgent(3)"
   ]
  },
  {
   "cell_type": "code",
   "execution_count": null,
   "id": "e8492eba-985a-4f44-b897-1977372c7e8b",
   "metadata": {},
   "outputs": [],
   "source": [
    "hwa.execute(percept_glitter(0))"
   ]
  },
  {
   "cell_type": "code",
   "execution_count": null,
   "id": "5fe89c6c-b96a-4baf-ac20-b17777158898",
   "metadata": {},
   "outputs": [],
   "source": []
  },
  {
   "cell_type": "code",
   "execution_count": null,
   "id": "531967d5-761a-428c-bdda-e50b8af10d65",
   "metadata": {},
   "outputs": [],
   "source": []
  }
 ],
 "metadata": {
  "kernelspec": {
   "display_name": "Python 3 (ipykernel)",
   "language": "python",
   "name": "python3"
  },
  "language_info": {
   "codemirror_mode": {
    "name": "ipython",
    "version": 3
   },
   "file_extension": ".py",
   "mimetype": "text/x-python",
   "name": "python",
   "nbconvert_exporter": "python",
   "pygments_lexer": "ipython3",
   "version": "3.11.2"
  }
 },
 "nbformat": 4,
 "nbformat_minor": 5
}
