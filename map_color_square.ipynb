{
 "cells": [
  {
   "cell_type": "code",
   "execution_count": 19,
   "id": "e0886b72-db35-4127-8f44-03138a16da46",
   "metadata": {},
   "outputs": [
    {
     "name": "stdout",
     "output_type": "stream",
     "text": [
      "First we show how slow min conflicts is. \n",
      "We only run 10 experiments with 5 'countries': \n",
      "min_conflicts 61.7578341960907\n"
     ]
    }
   ],
   "source": [
    "import random\n",
    "import matplotlib.pyplot as plt \n",
    "from scipy.spatial import Delaunay\n",
    "import numpy as np\n",
    "from csp import *\n",
    "import time\n",
    "\n",
    "\n",
    "class ColorMap:\n",
    "    def __init__(self, N):\n",
    "        self.N = N\n",
    "        self.points = np.array([[random.uniform(0,1),random.uniform(0,1)] for _ in range(self.N)])\n",
    "        self.tri = Delaunay(self.points)\n",
    "\n",
    "    def obtain_neighbours(self, pindex):\n",
    "        neighbors = list()\n",
    "        for simplex in self.tri.simplices:\n",
    "            if pindex in simplex:\n",
    "                neighbors.extend([simplex[i] for i in range(len(simplex)) if simplex[i] != pindex])\n",
    "\n",
    "        return list(set(neighbors))\n",
    "\n",
    "    def create_csp_neighbour_dictionary(self):\n",
    "        D = {}\n",
    "        for i in range(self.N):\n",
    "            D[i] = self.obtain_neighbours(i)\n",
    "        return D\n",
    "    \n",
    "    def display_points(self):\n",
    "        plt.triplot(self.points[:,0], self.points[:,1], self.tri.simplices)\n",
    "        plt.plot(self.points[:,0], self.points[:,1], 'o')\n",
    "        plt.show()\n",
    "\n",
    "print(\"First we show how slow min conflicts is. \")\n",
    "print(\"We only run 10 experiments with 5 'countries': \")\n",
    "t0 = time.time()\n",
    "for i in range(10):\n",
    "    color_map = ColorMap(5)\n",
    "    DD = color_map.create_csp_neighbour_dictionary()\n",
    "    mccsp = MapColoringCSP(list('RGB'), DD)\n",
    "    solution = min_conflicts(mccsp)\n",
    "t1 = time.time()\n",
    "\n",
    "print(\"min_conflicts\", t1 - t0)"
   ]
  },
  {
   "cell_type": "markdown",
   "id": "6d539a61-ab2d-4ea5-b98d-591b524ae892",
   "metadata": {},
   "source": [
    "Sometimes, when we run the above code, the problem generater picks a nice problem and min_conflicts completes very quickly. This is seldom the case. Typically, we get the above situation: 60 seconds!\n",
    "\n",
    "We get an enermous speed-up by using backtracking search..."
   ]
  },
  {
   "cell_type": "code",
   "execution_count": 20,
   "id": "e9521bdb-8fa9-47e9-99fd-ffe2b69f3544",
   "metadata": {},
   "outputs": [
    {
     "name": "stdout",
     "output_type": "stream",
     "text": [
      "backtracking_search 2.0141031742095947\n",
      "backtracking_search with forward_checking 0.4799063205718994\n",
      "backtracking_search with mac 0.7199668884277344\n"
     ]
    }
   ],
   "source": [
    "t0 = time.time()\n",
    "for i in range(30):\n",
    "    color_map = ColorMap(15)\n",
    "    DD = color_map.create_csp_neighbour_dictionary()\n",
    "    mccsp = MapColoringCSP(list('RGB'), DD)\n",
    "    solution = backtracking_search(mccsp)\n",
    "t1 = time.time()\n",
    "\n",
    "print(\"backtracking_search\", t1 - t0)\n",
    "\n",
    "t0 = time.time()\n",
    "for i in range(30):\n",
    "    color_map = ColorMap(15)\n",
    "    DD = color_map.create_csp_neighbour_dictionary()\n",
    "    mccsp = MapColoringCSP(list('RGB'), DD)\n",
    "    solution = backtracking_search(mccsp, order_domain_values=lcv, select_unassigned_variable=mrv, inference=forward_checking)\n",
    "t1 = time.time()\n",
    "\n",
    "print(\"backtracking_search with forward_checking\", t1 - t0)\n",
    "\n",
    "\n",
    "t0 = time.time()\n",
    "for i in range(30):\n",
    "    color_map = ColorMap(15)\n",
    "    DD = color_map.create_csp_neighbour_dictionary()\n",
    "    mccsp = MapColoringCSP(list('RGB'), DD)\n",
    "    solution = backtracking_search(mccsp, order_domain_values=lcv, select_unassigned_variable=mrv, inference=mac)\n",
    "t1 = time.time()\n",
    "\n",
    "print(\"backtracking_search with mac\", t1 - t0)"
   ]
  },
  {
   "cell_type": "code",
   "execution_count": null,
   "id": "f3c5071d-b68c-4140-bf6d-84c5775790f5",
   "metadata": {},
   "outputs": [],
   "source": []
  }
 ],
 "metadata": {
  "kernelspec": {
   "display_name": "Python 3 (ipykernel)",
   "language": "python",
   "name": "python3"
  },
  "language_info": {
   "codemirror_mode": {
    "name": "ipython",
    "version": 3
   },
   "file_extension": ".py",
   "mimetype": "text/x-python",
   "name": "python",
   "nbconvert_exporter": "python",
   "pygments_lexer": "ipython3",
   "version": "3.11.2"
  }
 },
 "nbformat": 4,
 "nbformat_minor": 5
}
