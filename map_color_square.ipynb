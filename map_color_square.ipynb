{
 "cells": [
  {
   "cell_type": "code",
   "execution_count": 33,
   "id": "e0886b72-db35-4127-8f44-03138a16da46",
   "metadata": {},
   "outputs": [
    {
     "name": "stdout",
     "output_type": "stream",
     "text": [
      "0 [0.90402954 0.32868915]\n",
      "1 [0.06511728 0.2675046 ]\n",
      "2 [0.95687174 0.9842185 ]\n",
      "3 [0.22835424 0.48381387]\n",
      "4 [0.39924355 0.91156282]\n",
      "5 [0.92630402 0.64173099]\n",
      "{0: 'R', 1: 'G', 2: 'B', 3: 'B', 4: 'R', 5: 'G'}\n"
     ]
    }
   ],
   "source": [
    "import random\n",
    "import matplotlib.pyplot as plt \n",
    "from scipy.spatial import Delaunay\n",
    "import numpy as np\n",
    "from csp import *\n",
    "\n",
    "class ColorMap:\n",
    "    def __init__(self, N):\n",
    "        self.N = N\n",
    "        self.points = np.array([[random.uniform(0,1),random.uniform(0,1)] for _ in range(self.N)])\n",
    "        self.tri = Delaunay(self.points)\n",
    "\n",
    "    def obtain_neighbours(self, pindex):\n",
    "        neighbors = list()\n",
    "        for simplex in self.tri.simplices:\n",
    "            if pindex in simplex:\n",
    "                neighbors.extend([simplex[i] for i in range(len(simplex)) if simplex[i] != pindex])\n",
    "\n",
    "        return list(set(neighbors))\n",
    "\n",
    "    def create_csp_neighbour_dictionary(self):\n",
    "        D = {}\n",
    "        for i in range(self.N):\n",
    "            print(i, self.tri.points[i])\n",
    "            D[i] = self.obtain_neighbours(i)\n",
    "        return D\n",
    "    \n",
    "    def display_points(self):\n",
    "        plt.triplot(self.points[:,0], self.points[:,1], self.tri.simplices)\n",
    "        plt.plot(self.points[:,0], self.points[:,1], 'o')\n",
    "        plt.show()\n",
    "        \n",
    "\n",
    "color_map = ColorMap(6)\n",
    "DD = color_map.create_csp_neighbour_dictionary()\n",
    "mccsp = MapColoringCSP(list('RGB'), DD)\n",
    "solution = min_conflicts(mccsp)\n",
    "print(solution)"
   ]
  },
  {
   "cell_type": "code",
   "execution_count": null,
   "id": "e9521bdb-8fa9-47e9-99fd-ffe2b69f3544",
   "metadata": {},
   "outputs": [],
   "source": []
  },
  {
   "cell_type": "code",
   "execution_count": null,
   "id": "f3c5071d-b68c-4140-bf6d-84c5775790f5",
   "metadata": {},
   "outputs": [],
   "source": []
  }
 ],
 "metadata": {
  "kernelspec": {
   "display_name": "Python 3 (ipykernel)",
   "language": "python",
   "name": "python3"
  },
  "language_info": {
   "codemirror_mode": {
    "name": "ipython",
    "version": 3
   },
   "file_extension": ".py",
   "mimetype": "text/x-python",
   "name": "python",
   "nbconvert_exporter": "python",
   "pygments_lexer": "ipython3",
   "version": "3.11.2"
  }
 },
 "nbformat": 4,
 "nbformat_minor": 5
}
