{
 "cells": [
  {
   "cell_type": "code",
   "execution_count": null,
   "id": "aa93f3c2-aeb9-423b-b628-1309b326995b",
   "metadata": {},
   "outputs": [],
   "source": [
    "In this code I test the most improtant Constraint Satisfaction Problem (CSP) algorithms. "
   ]
  },
  {
   "cell_type": "code",
   "execution_count": 19,
   "id": "e0886b72-db35-4127-8f44-03138a16da46",
   "metadata": {},
   "outputs": [],
   "source": [
    "import random\n",
    "import matplotlib.pyplot as plt \n",
    "from scipy.spatial import Delaunay\n",
    "import numpy as np\n",
    "from csp import *\n",
    "import time\n",
    "\n",
    "\n",
    "class ColorMap:\n",
    "    def __init__(self, N):\n",
    "        self.N = N\n",
    "        self.points = np.array([[random.uniform(0,1),random.uniform(0,1)] for _ in range(self.N)])\n",
    "        self.tri = Delaunay(self.points)\n",
    "\n",
    "    def obtain_neighbours(self, pindex):\n",
    "        neighbors = list()\n",
    "        for simplex in self.tri.simplices:\n",
    "            if pindex in simplex:\n",
    "                neighbors.extend([simplex[i] for i in range(len(simplex)) if simplex[i] != pindex])\n",
    "\n",
    "        return list(set(neighbors))\n",
    "\n",
    "    def create_csp_neighbour_dictionary(self):\n",
    "        D = {}\n",
    "        for i in range(self.N):\n",
    "            D[i] = self.obtain_neighbours(i)\n",
    "        return D\n",
    "    \n",
    "    def display_points(self):\n",
    "        plt.triplot(self.points[:,0], self.points[:,1], self.tri.simplices)\n",
    "        plt.plot(self.points[:,0], self.points[:,1], 'o')\n",
    "        plt.show()"
   ]
  },
  {
   "cell_type": "markdown",
   "id": "7c7bbdee-6670-484f-bee1-1e5d405fbf6c",
   "metadata": {},
   "source": [
    "First we look for solutions only using three colors: 'RGB'. Having run the code a few times already, I have reduced the number of experiments for min_conflicts to 10 from 30. You will see in the results below that even with this reduction min_conflicts takes a long long time with three colors."
   ]
  },
  {
   "cell_type": "code",
   "execution_count": 22,
   "id": "986328be-dafe-49db-a1de-d310b0abc802",
   "metadata": {},
   "outputs": [
    {
     "name": "stdout",
     "output_type": "stream",
     "text": [
      "min_conflicts 834.1865880489349\n",
      "backtracking_search 2.2875959873199463\n",
      "backtracking_search with forward_checking 0.3767368793487549\n",
      "backtracking_search with mac 0.7735340595245361\n"
     ]
    }
   ],
   "source": [
    "t0 = time.time()\n",
    "for i in range(10):\n",
    "    color_map = ColorMap(15)\n",
    "    DD = color_map.create_csp_neighbour_dictionary()\n",
    "    mccsp = MapColoringCSP(list('RGB'), DD)\n",
    "    solution = min_conflicts(mccsp)\n",
    "t1 = time.time()\n",
    "\n",
    "print(\"min_conflicts\", t1 - t0)\n",
    "\n",
    "t0 = time.time()\n",
    "for i in range(30):\n",
    "    color_map = ColorMap(15)\n",
    "    DD = color_map.create_csp_neighbour_dictionary()\n",
    "    mccsp = MapColoringCSP(list('RGB'), DD)\n",
    "    solution = backtracking_search(mccsp)\n",
    "t1 = time.time()\n",
    "\n",
    "print(\"backtracking_search\", t1 - t0)\n",
    "\n",
    "t0 = time.time()\n",
    "for i in range(30):\n",
    "    color_map = ColorMap(15)\n",
    "    DD = color_map.create_csp_neighbour_dictionary()\n",
    "    mccsp = MapColoringCSP(list('RGB'), DD)\n",
    "    solution = backtracking_search(mccsp, order_domain_values=lcv, select_unassigned_variable=mrv, inference=forward_checking)\n",
    "t1 = time.time()\n",
    "\n",
    "print(\"backtracking_search with forward_checking\", t1 - t0)\n",
    "\n",
    "\n",
    "t0 = time.time()\n",
    "for i in range(30):\n",
    "    color_map = ColorMap(15)\n",
    "    DD = color_map.create_csp_neighbour_dictionary()\n",
    "    mccsp = MapColoringCSP(list('RGB'), DD)\n",
    "    solution = backtracking_search(mccsp, order_domain_values=lcv, select_unassigned_variable=mrv, inference=mac)\n",
    "t1 = time.time()\n",
    "\n",
    "print(\"backtracking_search with mac\", t1 - t0)"
   ]
  },
  {
   "cell_type": "markdown",
   "id": "921f1cb5-40b1-4d1d-91aa-a34a2835d9fb",
   "metadata": {},
   "source": [
    "As we can see from the results above, min conflicts takes over 10 minutes! We save an in-depth discussion until the end of the notebook. \n",
    "\n",
    "Second we run the code seeking solutions using 'RGBY':"
   ]
  },
  {
   "cell_type": "code",
   "execution_count": 21,
   "id": "e9521bdb-8fa9-47e9-99fd-ffe2b69f3544",
   "metadata": {},
   "outputs": [
    {
     "name": "stdout",
     "output_type": "stream",
     "text": [
      "min_conflicts 0.6493396759033203\n",
      "backtracking_search 0.8865249156951904\n",
      "backtracking_search with forward_checking 0.2720656394958496\n",
      "backtracking_search with mac 0.49202704429626465\n"
     ]
    }
   ],
   "source": [
    "t0 = time.time()\n",
    "for i in range(30):\n",
    "    color_map = ColorMap(15)\n",
    "    DD = color_map.create_csp_neighbour_dictionary()\n",
    "    mccsp = MapColoringCSP(list('RGBY'), DD)\n",
    "    solution = min_conflicts(mccsp)\n",
    "t1 = time.time()\n",
    "\n",
    "print(\"min_conflicts\", t1 - t0)\n",
    "\n",
    "t0 = time.time()\n",
    "for i in range(30):\n",
    "    color_map = ColorMap(15)\n",
    "    DD = color_map.create_csp_neighbour_dictionary()\n",
    "    mccsp = MapColoringCSP(list('RGBY'), DD)\n",
    "    solution = backtracking_search(mccsp)\n",
    "t1 = time.time()\n",
    "\n",
    "print(\"backtracking_search\", t1 - t0)\n",
    "\n",
    "t0 = time.time()\n",
    "for i in range(30):\n",
    "    color_map = ColorMap(15)\n",
    "    DD = color_map.create_csp_neighbour_dictionary()\n",
    "    mccsp = MapColoringCSP(list('RGBY'), DD)\n",
    "    solution = backtracking_search(mccsp, order_domain_values=lcv, select_unassigned_variable=mrv, inference=forward_checking)\n",
    "t1 = time.time()\n",
    "\n",
    "print(\"backtracking_search with forward_checking\", t1 - t0)\n",
    "\n",
    "\n",
    "t0 = time.time()\n",
    "for i in range(30):\n",
    "    color_map = ColorMap(15)\n",
    "    DD = color_map.create_csp_neighbour_dictionary()\n",
    "    mccsp = MapColoringCSP(list('RGBY'), DD)\n",
    "    solution = backtracking_search(mccsp, order_domain_values=lcv, select_unassigned_variable=mrv, inference=mac)\n",
    "t1 = time.time()\n",
    "\n",
    "print(\"backtracking_search with mac\", t1 - t0)"
   ]
  },
  {
   "cell_type": "code",
   "execution_count": null,
   "id": "40ecb74b-32a2-4ac6-ab09-6bf7ebc29610",
   "metadata": {},
   "outputs": [],
   "source": []
  }
 ],
 "metadata": {
  "kernelspec": {
   "display_name": "Python 3 (ipykernel)",
   "language": "python",
   "name": "python3"
  },
  "language_info": {
   "codemirror_mode": {
    "name": "ipython",
    "version": 3
   },
   "file_extension": ".py",
   "mimetype": "text/x-python",
   "name": "python",
   "nbconvert_exporter": "python",
   "pygments_lexer": "ipython3",
   "version": "3.11.2"
  }
 },
 "nbformat": 4,
 "nbformat_minor": 5
}
