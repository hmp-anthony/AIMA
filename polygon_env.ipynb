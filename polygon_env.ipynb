{
 "cells": [
  {
   "cell_type": "markdown",
   "id": "5e0cc45c-5bcb-4e94-9f04-6b83f9369aad",
   "metadata": {},
   "source": [
    "We have solved this problem already, but in a different way, here: \n",
    "https://grainofsandendlessbeach.blogspot.com/2024/08/polygon-obstacle-path-finder-chapter-3.html\n",
    "\n",
    "This was back in the day where I did not realise that there are Markdown cells in a jupyter notebook: the joys of self-learning. Previously (link above) we created a graph by finding all vertices visible from a particular vertex, for all vertices. Once the graph was fully formed, we ran a few graph search algorithms to find a path from the start to the end. Obviously A-star and uniform-cost search (dijkstra) found the shortest path (the red and green lines). Here we are taking a different approach: We are asked in Exercise 4.11 to turn this problem into a environment problem. No longer do we form a graph by fully surveying the problem, then run an algorithm on the graph to obtain a solution. We are asked to provide an agent with percepts in the form of a collection of reachable vertices. The agent then makes a decision on what action to take: this comes in the form of a vector describing a straight-line path to follow.\n",
    "\n",
    "If you want to run this code, look for `polygon_env`, here: \n",
    "https://github.com/hmp-anthony/AIMA"
   ]
  },
  {
   "cell_type": "code",
   "execution_count": null,
   "id": "7dd4c256-5be2-4dcb-85ab-01de517580a1",
   "metadata": {},
   "outputs": [],
   "source": []
  }
 ],
 "metadata": {
  "kernelspec": {
   "display_name": "Python 3 (ipykernel)",
   "language": "python",
   "name": "python3"
  },
  "language_info": {
   "codemirror_mode": {
    "name": "ipython",
    "version": 3
   },
   "file_extension": ".py",
   "mimetype": "text/x-python",
   "name": "python",
   "nbconvert_exporter": "python",
   "pygments_lexer": "ipython3",
   "version": "3.11.2"
  }
 },
 "nbformat": 4,
 "nbformat_minor": 5
}
