{
 "cells": [
  {
   "cell_type": "markdown",
   "id": "5e0cc45c-5bcb-4e94-9f04-6b83f9369aad",
   "metadata": {},
   "source": [
    "We have solved this problem already, but in a different way, here: \n",
    "https://grainofsandendlessbeach.blogspot.com/2024/08/polygon-obstacle-path-finder-chapter-3.html\n",
    "\n",
    "This was back in the day where I did not realise that there are Markdown cells in a jupyter notebook: the joys of self-learning. Previously (link above) we created a graph by finding all vertices visible from a particular vertex, for all vertices. Once the graph was fully formed, we ran a few graph search algorithms to find a path from the start to the end. Obviously A-star and uniform-cost search (dijkstra) found the shortest path (the red and green lines). Here we are taking a different approach: We are asked in Exercise 4.11 to turn this problem into an environment problem. No longer do we form a graph by fully surveying the problem, then running an algorithm on the graph to obtain a solution. This time we are asked to provide an agent with percepts in the form of a collection of reachable vertices. The agent then makes a decision on what action to take: this comes in the form of a vector describing a straight-line path to follow.\n",
    "\n",
    "One of the difficulties in this problem is that we have to take into account the size of the agent. For simplicity I am going to assume that the agent is circular. If this was not the case then it is a decent assumption to assume that the agent is bounded by a circular region.\n",
    "\n",
    "\n",
    "If you want to run this code, look for `polygon_env`, here: \n",
    "https://github.com/hmp-anthony/AIMA"
   ]
  },
  {
   "cell_type": "markdown",
   "id": "bc3fa7c6-8e60-4a16-afec-32865eb6d7ba",
   "metadata": {},
   "source": [
    "## My Idea!\n",
    "\n",
    "My idea is to create a polygon class that takes a list of vertices. I will endow this class with a function that takes the size of the agent (its radius) and returns a list of spheres that represent possible targets for the agent to reach, for that particular polygon. This is quite a feat in computational geometry. \n",
    "\n",
    "An agent will beable to reach a target only if all three \"visibility\" rays emanating from the agent to the target are not breached by any line segment forming a boundary of the polygons. These three rays as defined as follows: the first is from the center of the agent to the center of the target. The other two are difficult to explain. Image?"
   ]
  },
  {
   "cell_type": "code",
   "execution_count": 14,
   "id": "7dd4c256-5be2-4dcb-85ab-01de517580a1",
   "metadata": {},
   "outputs": [
    {
     "data": {
      "image/png": "[encoded data removed]",
      "text/plain": [
       "<Figure size 640x480 with 1 Axes>"
      ]
     },
     "metadata": {},
     "output_type": "display_data"
    }
   ],
   "source": [
    "from search_2 import *\n",
    "from matplotlib.patches import Polygon\n",
    "\n",
    "class polygon:\n",
    "    def __init__(self, vertices):\n",
    "        self.vertices = vertices\n",
    "\n",
    "    def get_vertices(self):\n",
    "        return self.vertices\n",
    "\n",
    "polygons = [polygon([(2,2), (4,2), (4,4), (2,4), (1,3)]),\n",
    "            polygon([(3,6), (6,6), (6,9)])]\n",
    "\n",
    "polygon_plot = []\n",
    "\n",
    "for p in polygons:\n",
    "    polygon_plot.append(Polygon(p.get_vertices(), facecolor = 'y'))\n",
    "\n",
    "fig,ax = plt.subplots()\n",
    "\n",
    "for p in polygon_plot:\n",
    "    ax.add_patch(p)\n",
    "\n",
    "ax.set_xlim([0,10])\n",
    "ax.set_ylim([0,10])\n",
    "plt.show()"
   ]
  },
  {
   "cell_type": "code",
   "execution_count": null,
   "id": "98ede88d-4c3c-49ca-bf66-995023b43caa",
   "metadata": {},
   "outputs": [],
   "source": []
  },
  {
   "cell_type": "code",
   "execution_count": null,
   "id": "179fd29f-d6b7-4572-a722-c03a4e04a251",
   "metadata": {},
   "outputs": [],
   "source": []
  }
 ],
 "metadata": {
  "kernelspec": {
   "display_name": "Python 3 (ipykernel)",
   "language": "python",
   "name": "python3"
  },
  "language_info": {
   "codemirror_mode": {
    "name": "ipython",
    "version": 3
   },
   "file_extension": ".py",
   "mimetype": "text/x-python",
   "name": "python",
   "nbconvert_exporter": "python",
   "pygments_lexer": "ipython3",
   "version": "3.11.2"
  }
 },
 "nbformat": 4,
 "nbformat_minor": 5
}
