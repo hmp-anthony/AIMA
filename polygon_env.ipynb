{
 "cells": [
  {
   "cell_type": "markdown",
   "id": "5e0cc45c-5bcb-4e94-9f04-6b83f9369aad",
   "metadata": {},
   "source": [
    "We have solved a simplified version of this problem already, using a different method, here: \n",
    "https://grainofsandendlessbeach.blogspot.com/2024/08/polygon-obstacle-path-finder-chapter-3.html\n",
    "\n",
    "Previously (link above) we created a graph by finding all vertices visible from a particular vertex, for all vertices. Once the graph was fully formed, we ran a few graph search algorithms on it to find a path from the start to the end. Obviously A-star and uniform-cost search (dijkstra) found the shortest path (the red and green lines). Here we are taking a different approach: We are asked in Exercise 4.11 to turn this problem into an environment problem. No longer do we form a graph by fully surveying the problem then running an algorithm on the graph to obtain a solution. This time we are asked to provide an agent with percepts in the form of a collection of visible vertices. The agent then makes a decision on what action to take: this comes in the form of a vector describing a straight-line path to follow.\n",
    "\n",
    "One of the difficulties in this version of the problem is that we have to take into account the size of the agent. For simplicity I am going to assume that the agent is circular. If this was not the case then it is a decent assumption to assume that the agent is bounded by a circular region. In the original problem (3.7, linked above) the agent was a point mass so we did not have to make a distinction between visbility and reachability. This time we are searching for collision between a disk and an obstacle, during the execution of an action. This is commonly referred to as swept collision detection.\n",
    "\n",
    "If you want to run this code, look for `polygon_env.ipynb`, here: \n",
    "https://github.com/hmp-anthony/AIMA"
   ]
  },
  {
   "cell_type": "markdown",
   "id": "bc3fa7c6-8e60-4a16-afec-32865eb6d7ba",
   "metadata": {},
   "source": [
    "## My Idea!\n",
    "\n"
   ]
  },
  {
   "cell_type": "code",
   "execution_count": 7,
   "id": "7dd4c256-5be2-4dcb-85ab-01de517580a1",
   "metadata": {},
   "outputs": [
    {
     "data": {
      "image/png": "[encoded data removed]",
      "text/plain": [
       "<Figure size 640x480 with 1 Axes>"
      ]
     },
     "metadata": {},
     "output_type": "display_data"
    }
   ],
   "source": [
    "from search_2 import *\n",
    "from matplotlib.patches import Polygon\n",
    "from agents import *\n",
    "\n",
    "class PolygonAgent(Agent):\n",
    "    def __init__(self, program = None):\n",
    "        super().__init__(program)\n",
    "        # a pair of tuples, [(n1, n2), (x0, y0)]\n",
    "        self.visibility_plane = None\n",
    "\n",
    "class Environment:\n",
    "    def __init__(self, polygons):\n",
    "        self.agent = None\n",
    "        self.agent_position = None\n",
    "        self.polygons = polygons\n",
    "\n",
    "    def percept(self):\n",
    "        # We need to find all visible vertices.\n",
    "        vertices = []\n",
    "        for p in self.polygons:\n",
    "            vertices.extend(p.get_vertices)\n",
    "        # First, is the vertex in the agents visibiltiy region?\n",
    "        for v in vertices:\n",
    "            if self.agent.visibility_plane:\n",
    "                None\n",
    "            \n",
    "        \n",
    "\n",
    "class polygon:\n",
    "    def __init__(self, vertices):\n",
    "        self.vertices = vertices\n",
    "\n",
    "    def get_vertices(self):\n",
    "        return self.vertices\n",
    "\n",
    "polygons = [polygon([(6,2), (8,2), (8,4), (6,4), (5,3)]),\n",
    "            polygon([(3,6), (6,6), (6,9)])]\n",
    "\n",
    "initial_position = (1,1)\n",
    "goal = (8,8)\n",
    "\n",
    "\n",
    "# graphics stuff\n",
    "polygon_plot = []\n",
    "for p in polygons:\n",
    "    polygon_plot.append(Polygon(p.get_vertices(), facecolor = 'y'))\n",
    "\n",
    "fig,ax = plt.subplots()\n",
    "for p in polygon_plot:\n",
    "    ax.add_patch(p)\n",
    "\n",
    "ax.set_xlim([0,10])\n",
    "ax.set_ylim([0,10])\n",
    "plt.show()"
   ]
  },
  {
   "cell_type": "code",
   "execution_count": null,
   "id": "98ede88d-4c3c-49ca-bf66-995023b43caa",
   "metadata": {},
   "outputs": [],
   "source": []
  },
  {
   "cell_type": "code",
   "execution_count": null,
   "id": "179fd29f-d6b7-4572-a722-c03a4e04a251",
   "metadata": {},
   "outputs": [],
   "source": []
  }
 ],
 "metadata": {
  "kernelspec": {
   "display_name": "Python 3 (ipykernel)",
   "language": "python",
   "name": "python3"
  },
  "language_info": {
   "codemirror_mode": {
    "name": "ipython",
    "version": 3
   },
   "file_extension": ".py",
   "mimetype": "text/x-python",
   "name": "python",
   "nbconvert_exporter": "python",
   "pygments_lexer": "ipython3",
   "version": "3.11.2"
  }
 },
 "nbformat": 4,
 "nbformat_minor": 5
}
